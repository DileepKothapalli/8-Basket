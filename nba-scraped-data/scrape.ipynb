{
 "cells": [
  {
   "cell_type": "code",
   "execution_count": 7,
   "metadata": {},
   "outputs": [],
   "source": [
    "import requests\n",
    "import pandas as pd\n",
    "\n",
    "seasons =  []\n",
    "\n",
    "for i in range(10):\n",
    "    first = 2022-i\n",
    "    second= 23-i\n",
    "    seasons.append(str(first)+'-'+str(second))\n",
    "\n",
    "for i in seasons:\n",
    "\n",
    "    url = 'https://stats.nba.com/stats/leaguegamelog'\n",
    "    headers= {'user-agent': 'Mozilla/5.0 (Windows NT 10.0; Win64; x64) AppleWebKit/537.36 (KHTML, like Gecko) Chrome/96.0.4664.110 Safari/537.36',\n",
    "            'Referer': 'https://www.nba.com/'}\n",
    "\n",
    "    season = i\n",
    "    payload = {\n",
    "        'Counter': '1000',\n",
    "        'DateFrom': '',\n",
    "        'DateTo': '',\n",
    "        'Direction': 'DESC',\n",
    "        'LeagueID': '00',\n",
    "        'PlayerOrTeam': 'P',\n",
    "        'Season': season,\n",
    "        'SeasonType': 'Regular Season',\n",
    "        'Sorter': 'DATE'}\n",
    "\n",
    "\n",
    "\n",
    "    jsonData = requests.get(url, headers=headers, params=payload).json()\n",
    "\n",
    "\n",
    "    rows = jsonData['resultSets'][0]['rowSet']\n",
    "    columns = jsonData['resultSets'][0]['headers']\n",
    "\n",
    "    df = pd.DataFrame(rows, columns=columns)\n",
    "    df.to_csv(f'./player_games/player_game_{season}.csv')"
   ]
  },
  {
   "cell_type": "code",
   "execution_count": 3,
   "metadata": {},
   "outputs": [
    {
     "name": "stdout",
     "output_type": "stream",
     "text": [
      "<class 'pandas.core.frame.DataFrame'>\n",
      "RangeIndex: 25895 entries, 0 to 25894\n",
      "Data columns (total 32 columns):\n",
      " #   Column             Non-Null Count  Dtype  \n",
      "---  ------             --------------  -----  \n",
      " 0   SEASON_ID          25895 non-null  object \n",
      " 1   PLAYER_ID          25895 non-null  int64  \n",
      " 2   PLAYER_NAME        25895 non-null  object \n",
      " 3   TEAM_ID            25895 non-null  int64  \n",
      " 4   TEAM_ABBREVIATION  25895 non-null  object \n",
      " 5   TEAM_NAME          25895 non-null  object \n",
      " 6   GAME_ID            25895 non-null  object \n",
      " 7   GAME_DATE          25895 non-null  object \n",
      " 8   MATCHUP            25895 non-null  object \n",
      " 9   WL                 25895 non-null  object \n",
      " 10  MIN                25895 non-null  int64  \n",
      " 11  FGM                25895 non-null  int64  \n",
      " 12  FGA                25895 non-null  int64  \n",
      " 13  FG_PCT             24677 non-null  float64\n",
      " 14  FG3M               25895 non-null  int64  \n",
      " 15  FG3A               25895 non-null  int64  \n",
      " 16  FG3_PCT            20318 non-null  float64\n",
      " 17  FTM                25895 non-null  int64  \n",
      " 18  FTA                25895 non-null  int64  \n",
      " 19  FT_PCT             14659 non-null  float64\n",
      " 20  OREB               25895 non-null  int64  \n",
      " 21  DREB               25895 non-null  int64  \n",
      " 22  REB                25895 non-null  int64  \n",
      " 23  AST                25895 non-null  int64  \n",
      " 24  STL                25895 non-null  int64  \n",
      " 25  BLK                25895 non-null  int64  \n",
      " 26  TOV                25895 non-null  int64  \n",
      " 27  PF                 25895 non-null  int64  \n",
      " 28  PTS                25895 non-null  int64  \n",
      " 29  PLUS_MINUS         25895 non-null  int64  \n",
      " 30  FANTASY_PTS        25895 non-null  float64\n",
      " 31  VIDEO_AVAILABLE    25895 non-null  int64  \n",
      "dtypes: float64(4), int64(20), object(8)\n",
      "memory usage: 6.3+ MB\n"
     ]
    }
   ],
   "source": [
    "df.info()\n",
    "\n"
   ]
  },
  {
   "cell_type": "code",
   "execution_count": 6,
   "metadata": {},
   "outputs": [
    {
     "name": "stdout",
     "output_type": "stream",
     "text": [
      "['2022-23', '2021-22', '2020-21', '2019-20', '2018-19', '2017-18', '2016-17', '2015-16', '2014-15', '2013-14']\n"
     ]
    }
   ],
   "source": [
    "\n",
    "\n",
    "\n",
    "\n",
    "print(seasons)"
   ]
  },
  {
   "cell_type": "code",
   "execution_count": null,
   "metadata": {},
   "outputs": [],
   "source": []
  }
 ],
 "metadata": {
  "kernelspec": {
   "display_name": "Python 3.9.13 64-bit",
   "language": "python",
   "name": "python3"
  },
  "language_info": {
   "codemirror_mode": {
    "name": "ipython",
    "version": 3
   },
   "file_extension": ".py",
   "mimetype": "text/x-python",
   "name": "python",
   "nbconvert_exporter": "python",
   "pygments_lexer": "ipython3",
   "version": "3.9.13"
  },
  "orig_nbformat": 4,
  "vscode": {
   "interpreter": {
    "hash": "c14c2d7be1f53219467678bda1635cff90cc0149b84d2ec096005f7661aaa68f"
   }
  }
 },
 "nbformat": 4,
 "nbformat_minor": 2
}
